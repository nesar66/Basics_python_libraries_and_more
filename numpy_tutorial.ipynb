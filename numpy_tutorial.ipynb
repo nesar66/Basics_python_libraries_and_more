{
  "nbformat": 4,
  "nbformat_minor": 0,
  "metadata": {
    "colab": {
      "provenance": [],
      "authorship_tag": "ABX9TyPRK9pETZPqGMXMR+TPHLIJ"
    },
    "kernelspec": {
      "name": "python3",
      "display_name": "Python 3"
    },
    "language_info": {
      "name": "python"
    }
  },
  "cells": [
    {
      "cell_type": "code",
      "execution_count": null,
      "metadata": {
        "id": "euhj279B519i"
      },
      "outputs": [],
      "source": [
        "#https://www.youtube.com/watch?v=gnKbAAVUzro&list=PLCC34OHNcOtpalASMlX2HHdsLNipyyhbK"
      ]
    },
    {
      "cell_type": "markdown",
      "source": [
        "**Learn more on how to slice through multidimensional arrays and how to search through arrays more detailed. **\n"
      ],
      "metadata": {
        "id": "J99QimuP-U_j"
      }
    },
    {
      "cell_type": "code",
      "source": [
        "import numpy as np"
      ],
      "metadata": {
        "id": "b0emk7Aa8aC5"
      },
      "execution_count": null,
      "outputs": []
    },
    {
      "cell_type": "code",
      "source": [
        "# create a numpy array and print it's shape\n",
        "np1=np.array([0,1,2,3,4,5,6,7,8,9])\n",
        "np1.shape"
      ],
      "metadata": {
        "colab": {
          "base_uri": "https://localhost:8080/"
        },
        "id": "UZnszAMF8aF0",
        "outputId": "c28759c6-c829-4e35-aac7-8dadc041e1b0"
      },
      "execution_count": null,
      "outputs": [
        {
          "output_type": "execute_result",
          "data": {
            "text/plain": [
              "(10,)"
            ]
          },
          "metadata": {},
          "execution_count": 2
        }
      ]
    },
    {
      "cell_type": "code",
      "source": [
        "#arange means from 0 to the number excluding last number\n",
        "np.arange(10)\n"
      ],
      "metadata": {
        "colab": {
          "base_uri": "https://localhost:8080/"
        },
        "id": "USkIb9iO8aI_",
        "outputId": "b5e3f862-da4f-45e5-cf66-a3338c000b0c"
      },
      "execution_count": null,
      "outputs": [
        {
          "output_type": "execute_result",
          "data": {
            "text/plain": [
              "array([0, 1, 2, 3, 4, 5, 6, 7, 8, 9])"
            ]
          },
          "metadata": {},
          "execution_count": 3
        }
      ]
    },
    {
      "cell_type": "code",
      "source": [
        "# you can specify the step\n",
        "np3=np.arange(3,10,2)\n",
        "np3\n"
      ],
      "metadata": {
        "id": "RPTwqWBG8aLs",
        "colab": {
          "base_uri": "https://localhost:8080/"
        },
        "outputId": "42c8cfb8-aeec-4987-d07e-dccdb4de12c9"
      },
      "execution_count": null,
      "outputs": [
        {
          "output_type": "execute_result",
          "data": {
            "text/plain": [
              "array([3, 5, 7, 9])"
            ]
          },
          "metadata": {},
          "execution_count": 4
        }
      ]
    },
    {
      "cell_type": "code",
      "source": [
        "#create an array for zeroes\n",
        "np4=np.zeros(8)\n"
      ],
      "metadata": {
        "id": "J9X3trZa9tlw"
      },
      "execution_count": null,
      "outputs": []
    },
    {
      "cell_type": "code",
      "source": [
        "# multidimentional array\n",
        "np5=np.zeros((3,10))\n",
        "print(np5)"
      ],
      "metadata": {
        "id": "KIkCfVjq97nt",
        "colab": {
          "base_uri": "https://localhost:8080/"
        },
        "outputId": "ba7bdc39-8479-4c27-ebed-9def93e01223"
      },
      "execution_count": null,
      "outputs": [
        {
          "output_type": "stream",
          "name": "stdout",
          "text": [
            "[[0. 0. 0. 0. 0. 0. 0. 0. 0. 0.]\n",
            " [0. 0. 0. 0. 0. 0. 0. 0. 0. 0.]\n",
            " [0. 0. 0. 0. 0. 0. 0. 0. 0. 0.]]\n"
          ]
        }
      ]
    },
    {
      "cell_type": "code",
      "source": [
        "print(np.full((10,3),5))"
      ],
      "metadata": {
        "colab": {
          "base_uri": "https://localhost:8080/"
        },
        "id": "DVvme0k597qi",
        "outputId": "790a0dde-3091-480d-cd54-4443fc011e34"
      },
      "execution_count": null,
      "outputs": [
        {
          "output_type": "stream",
          "name": "stdout",
          "text": [
            "[[5 5 5]\n",
            " [5 5 5]\n",
            " [5 5 5]\n",
            " [5 5 5]\n",
            " [5 5 5]\n",
            " [5 5 5]\n",
            " [5 5 5]\n",
            " [5 5 5]\n",
            " [5 5 5]\n",
            " [5 5 5]]\n"
          ]
        }
      ]
    },
    {
      "cell_type": "code",
      "source": [
        "np7=np.full((10,2),6)\n",
        "np7"
      ],
      "metadata": {
        "colab": {
          "base_uri": "https://localhost:8080/"
        },
        "id": "_PBAMctLKr3r",
        "outputId": "e4ca30b3-79c0-4107-e402-fcaa16aaf4cf"
      },
      "execution_count": null,
      "outputs": [
        {
          "output_type": "execute_result",
          "data": {
            "text/plain": [
              "array([[6, 6],\n",
              "       [6, 6],\n",
              "       [6, 6],\n",
              "       [6, 6],\n",
              "       [6, 6],\n",
              "       [6, 6],\n",
              "       [6, 6],\n",
              "       [6, 6],\n",
              "       [6, 6],\n",
              "       [6, 6]])"
            ]
          },
          "metadata": {},
          "execution_count": 8
        }
      ]
    },
    {
      "cell_type": "code",
      "source": [
        "# convert python list to numpy\n",
        "list=[1,2,3,4,5,6,7,8,9]\n",
        "np8=np.array(list)"
      ],
      "metadata": {
        "id": "3W6LuqyzKdQG"
      },
      "execution_count": null,
      "outputs": []
    },
    {
      "cell_type": "code",
      "source": [
        "import numpy as np\n",
        "np_test=np.array([[1,4,5],[6,7,8],[5,6,7],[9,8,7]])\n",
        "print(np_test)\n",
        "print(np_test.shape)"
      ],
      "metadata": {
        "id": "Lt_4vtZw4-wx",
        "colab": {
          "base_uri": "https://localhost:8080/"
        },
        "outputId": "2aff4b5e-1894-4d2f-99ec-b64b5fa1320c"
      },
      "execution_count": null,
      "outputs": [
        {
          "output_type": "stream",
          "name": "stdout",
          "text": [
            "[[1 4 5]\n",
            " [6 7 8]\n",
            " [5 6 7]\n",
            " [9 8 7]]\n",
            "(4, 3)\n"
          ]
        }
      ]
    },
    {
      "cell_type": "code",
      "source": [
        "print(np_test[:,0:2])\n",
        "print(np_test[::-1])"
      ],
      "metadata": {
        "id": "xpFYX2xC4-zw",
        "colab": {
          "base_uri": "https://localhost:8080/"
        },
        "outputId": "7d189975-4ace-46e7-b6ec-fa6b1f48a621"
      },
      "execution_count": null,
      "outputs": [
        {
          "output_type": "stream",
          "name": "stdout",
          "text": [
            "[[1 4]\n",
            " [6 7]\n",
            " [5 6]\n",
            " [9 8]]\n",
            "[[9 8 7]\n",
            " [5 6 7]\n",
            " [6 7 8]\n",
            " [1 4 5]]\n"
          ]
        }
      ]
    },
    {
      "cell_type": "code",
      "source": [],
      "metadata": {
        "id": "aYkR-pnd4-3u"
      },
      "execution_count": null,
      "outputs": []
    },
    {
      "cell_type": "code",
      "source": [
        "# slicing arrays\n",
        "print(np1)\n",
        "# we want to return 2,3,4,5,\n",
        "print(np1[2:6])\n",
        "print(np1[-4:])"
      ],
      "metadata": {
        "colab": {
          "base_uri": "https://localhost:8080/"
        },
        "id": "YA9EitiLKdS_",
        "outputId": "92d8c9c3-b297-4072-e3d5-d8a7a4b8d73d"
      },
      "execution_count": null,
      "outputs": [
        {
          "output_type": "stream",
          "name": "stdout",
          "text": [
            "[0 1 2 3 4 5 6 7 8 9]\n",
            "[2 3 4 5]\n",
            "[6 7 8 9]\n"
          ]
        }
      ]
    },
    {
      "cell_type": "code",
      "source": [
        "print(np1[-5:])\n",
        "print(np1[-5:-1])\n"
      ],
      "metadata": {
        "colab": {
          "base_uri": "https://localhost:8080/"
        },
        "id": "OCRQEpVL97tX",
        "outputId": "cfb772af-7cb3-4cd9-f52d-d1c088a36501"
      },
      "execution_count": null,
      "outputs": [
        {
          "output_type": "stream",
          "name": "stdout",
          "text": [
            "[5 6 7 8 9]\n",
            "[5 6 7 8]\n"
          ]
        }
      ]
    },
    {
      "cell_type": "code",
      "source": [
        "np1"
      ],
      "metadata": {
        "colab": {
          "base_uri": "https://localhost:8080/"
        },
        "id": "lxPCNpGOgO1I",
        "outputId": "e6bf8e26-08e6-4202-a63b-953af37c41d4"
      },
      "execution_count": null,
      "outputs": [
        {
          "output_type": "execute_result",
          "data": {
            "text/plain": [
              "array([0, 1, 2, 3, 4, 5, 6, 7, 8, 9])"
            ]
          },
          "metadata": {},
          "execution_count": 13
        }
      ]
    },
    {
      "cell_type": "code",
      "source": [
        "# slicing with step\n",
        "print(np1[0:5:2])\n",
        "print(np1[::2])\n"
      ],
      "metadata": {
        "colab": {
          "base_uri": "https://localhost:8080/"
        },
        "id": "PGcaOdClVzSq",
        "outputId": "498ce540-b29e-4107-fcc6-3c4c3b30df25"
      },
      "execution_count": null,
      "outputs": [
        {
          "output_type": "stream",
          "name": "stdout",
          "text": [
            "[0 2 4]\n",
            "[0 2 4 6 8]\n"
          ]
        }
      ]
    },
    {
      "cell_type": "code",
      "source": [
        "np_try=np.array([1,2,3,4,5,6,7,8,9,10,1,11,12,13,14,15])\n",
        "np.sort(np_try)\n",
        "print(np_try[::-1])\n",
        "print(np_try[4:-2:2])"
      ],
      "metadata": {
        "colab": {
          "base_uri": "https://localhost:8080/"
        },
        "id": "KzfuPvyWlm2S",
        "outputId": "75d9178b-41fc-424c-d065-c9ac72e670b2"
      },
      "execution_count": null,
      "outputs": [
        {
          "output_type": "stream",
          "name": "stdout",
          "text": [
            "[15 14 13 12 11  1 10  9  8  7  6  5  4  3  2  1]\n",
            "[ 5  7  9  1 12]\n"
          ]
        }
      ]
    },
    {
      "cell_type": "code",
      "source": [],
      "metadata": {
        "id": "rA4aFFWBlm42"
      },
      "execution_count": null,
      "outputs": []
    },
    {
      "cell_type": "code",
      "source": [],
      "metadata": {
        "id": "MuMKhzCTlm7m"
      },
      "execution_count": null,
      "outputs": []
    },
    {
      "cell_type": "code",
      "source": [
        "# 2d array\n",
        "np11=np.array([[1,2,7,8],[3,4,5,6]])\n",
        "print(np11)"
      ],
      "metadata": {
        "colab": {
          "base_uri": "https://localhost:8080/"
        },
        "id": "8Ihb3sMpVzVV",
        "outputId": "11379b4f-f712-4716-a4a6-c676495d0737"
      },
      "execution_count": null,
      "outputs": [
        {
          "output_type": "stream",
          "name": "stdout",
          "text": [
            "[[1 2 7 8]\n",
            " [3 4 5 6]]\n"
          ]
        }
      ]
    },
    {
      "cell_type": "code",
      "source": [
        "np_test=np.array([[1,2,3],[3,4,5],[4,5,6]])\n"
      ],
      "metadata": {
        "id": "BHf1mKfh7Ftg"
      },
      "execution_count": null,
      "outputs": []
    },
    {
      "cell_type": "code",
      "source": [
        "#pull out a single element\n",
        "print(np11[0,1])\n",
        "#pull out a slice\n",
        "print(np11[0,2:])"
      ],
      "metadata": {
        "colab": {
          "base_uri": "https://localhost:8080/"
        },
        "id": "iqysyboTVzYJ",
        "outputId": "f90c4ace-3bef-47a4-d66b-add389a0bf53"
      },
      "execution_count": null,
      "outputs": [
        {
          "output_type": "stream",
          "name": "stdout",
          "text": [
            "2\n",
            "[7 8]\n"
          ]
        }
      ]
    },
    {
      "cell_type": "code",
      "source": [
        "# some universal function of numpy\n",
        "#squarer root\n",
        "np_root=np.sqrt(np1)\n",
        "#absolute value\n",
        "print(np.abs([-4,-5,7,8]))\n",
        "# exponent\n",
        "print(np.exp(np1))\n",
        "# min or max\n",
        "print(np.min(np1))\n",
        "print(np.max(np1))\n",
        "print(np.log(np1))"
      ],
      "metadata": {
        "colab": {
          "base_uri": "https://localhost:8080/"
        },
        "id": "vh2E9Q0BVzaw",
        "outputId": "94bc28cd-a9c3-43c5-b143-d452caf3fcef"
      },
      "execution_count": null,
      "outputs": [
        {
          "output_type": "stream",
          "name": "stdout",
          "text": [
            "[4 5 7 8]\n",
            "[1.00000000e+00 2.71828183e+00 7.38905610e+00 2.00855369e+01\n",
            " 5.45981500e+01 1.48413159e+02 4.03428793e+02 1.09663316e+03\n",
            " 2.98095799e+03 8.10308393e+03]\n",
            "0\n",
            "9\n",
            "[      -inf 0.         0.69314718 1.09861229 1.38629436 1.60943791\n",
            " 1.79175947 1.94591015 2.07944154 2.19722458]\n"
          ]
        },
        {
          "output_type": "stream",
          "name": "stderr",
          "text": [
            "<ipython-input-18-d48f226d2dd3>:11: RuntimeWarning: divide by zero encountered in log\n",
            "  print(np.log(np1))\n"
          ]
        }
      ]
    },
    {
      "cell_type": "code",
      "source": [
        "# copy vs view for numpy\n",
        "# view also copies but it changes elements if we change the original array. If you make a change in view/original then the view/original\n",
        "# will change\n",
        "np12=np.array([0,1,2,3,4,5,6,7,8,9])\n",
        "np13=np12.view()\n",
        "np14=np12.copy()\n",
        "np12[5]=90"
      ],
      "metadata": {
        "id": "tPQ4JxMzuAQf"
      },
      "execution_count": null,
      "outputs": []
    },
    {
      "cell_type": "code",
      "source": [
        "print(\"original np12\", np12)\n",
        "print(\"view\", np13)\n",
        "print(\"copy\", np14)\n"
      ],
      "metadata": {
        "colab": {
          "base_uri": "https://localhost:8080/"
        },
        "id": "gErjdZteuATb",
        "outputId": "aff10deb-2b61-4f2e-e937-ecd074444ec1"
      },
      "execution_count": null,
      "outputs": [
        {
          "output_type": "stream",
          "name": "stdout",
          "text": [
            "original np12 [ 0  1  2  3  4 90  6  7  8  9]\n",
            "view [ 0  1  2  3  4 90  6  7  8  9]\n",
            "copy [0 1 2 3 4 5 6 7 8 9]\n"
          ]
        }
      ]
    },
    {
      "cell_type": "code",
      "source": [],
      "metadata": {
        "id": "zjqtjwkcibv-"
      },
      "execution_count": null,
      "outputs": []
    },
    {
      "cell_type": "code",
      "source": [
        "# shape and reshape numpy arrays\n",
        "np15=np.array([1,2,3,4,5,6,7,8,9,10,11,12])\n",
        "print(np15)\n",
        "print(np15.shape)\n",
        "np16=np.array([[1,2,3,4,5,6],[7,8,9,10,11,12]])\n",
        "print(np16)\n",
        "print(np16.shape)"
      ],
      "metadata": {
        "colab": {
          "base_uri": "https://localhost:8080/"
        },
        "id": "LHfqF1vnuAWu",
        "outputId": "f7466323-e050-4a55-dc70-4d3127914749"
      },
      "execution_count": null,
      "outputs": [
        {
          "output_type": "stream",
          "name": "stdout",
          "text": [
            "[ 1  2  3  4  5  6  7  8  9 10 11 12]\n",
            "(12,)\n",
            "[[ 1  2  3  4  5  6]\n",
            " [ 7  8  9 10 11 12]]\n",
            "(2, 6)\n"
          ]
        }
      ]
    },
    {
      "cell_type": "code",
      "source": [
        "np17=np15.reshape(6,2)\n",
        "#print(np17)\n",
        "np18=np15.reshape(12,).reshape(2,3,2)\n",
        "print(np18)"
      ],
      "metadata": {
        "colab": {
          "base_uri": "https://localhost:8080/"
        },
        "id": "5oYHqwSHuAZ5",
        "outputId": "29449f51-60de-42ef-de07-a03c5aa70e0a"
      },
      "execution_count": null,
      "outputs": [
        {
          "output_type": "stream",
          "name": "stdout",
          "text": [
            "[[[ 1  2]\n",
            "  [ 3  4]\n",
            "  [ 5  6]]\n",
            "\n",
            " [[ 7  8]\n",
            "  [ 9 10]\n",
            "  [11 12]]]\n"
          ]
        }
      ]
    },
    {
      "cell_type": "code",
      "source": [
        "#iterating through numpy arrays"
      ],
      "metadata": {
        "id": "26ZfGOMYuAdM"
      },
      "execution_count": null,
      "outputs": []
    },
    {
      "cell_type": "code",
      "source": [
        "np_it=np.array([1,2,3,4,5,6,7,8,9])\n",
        "a=[i for i in np_it if i>5]\n",
        "print(a)"
      ],
      "metadata": {
        "colab": {
          "base_uri": "https://localhost:8080/"
        },
        "id": "QarK-Je5uAgQ",
        "outputId": "dee0d55e-644f-449d-9b9b-956151810837"
      },
      "execution_count": null,
      "outputs": [
        {
          "output_type": "stream",
          "name": "stdout",
          "text": [
            "[6, 7, 8, 9]\n"
          ]
        }
      ]
    },
    {
      "cell_type": "code",
      "source": [
        "print(np_it[::-1])\n",
        "len(np_it)"
      ],
      "metadata": {
        "colab": {
          "base_uri": "https://localhost:8080/"
        },
        "id": "zf1LyvP42mZg",
        "outputId": "65fb5f0b-48e6-470d-9eba-9a0efec13fb3"
      },
      "execution_count": null,
      "outputs": [
        {
          "output_type": "stream",
          "name": "stdout",
          "text": [
            "[9 8 7 6 5 4 3 2 1]\n"
          ]
        },
        {
          "output_type": "execute_result",
          "data": {
            "text/plain": [
              "9"
            ]
          },
          "metadata": {},
          "execution_count": 20
        }
      ]
    },
    {
      "cell_type": "code",
      "source": [
        "np_it_ndim=np.array([[1,2,3,4,5],[6,7,8,9,10]])\n",
        "for x in np_it_ndim:\n",
        "  print(x)"
      ],
      "metadata": {
        "colab": {
          "base_uri": "https://localhost:8080/"
        },
        "id": "Yv8IYmT_uAi5",
        "outputId": "a2d1c20b-d6ab-49b0-c8ae-ea99d9068d6c"
      },
      "execution_count": null,
      "outputs": [
        {
          "output_type": "stream",
          "name": "stdout",
          "text": [
            "[1 2 3 4 5]\n",
            "[ 6  7  8  9 10]\n"
          ]
        }
      ]
    },
    {
      "cell_type": "code",
      "source": [
        "for x in np_it_ndim:\n",
        "  for y in x:\n",
        "    print(y)"
      ],
      "metadata": {
        "colab": {
          "base_uri": "https://localhost:8080/"
        },
        "id": "vBV6X4ktuAl0",
        "outputId": "6e8b53ad-84b4-4916-bf9a-8a069d742565"
      },
      "execution_count": null,
      "outputs": [
        {
          "output_type": "stream",
          "name": "stdout",
          "text": [
            "1\n",
            "2\n",
            "3\n",
            "4\n",
            "5\n",
            "6\n",
            "7\n",
            "8\n",
            "9\n",
            "10\n"
          ]
        }
      ]
    },
    {
      "cell_type": "code",
      "source": [
        "#3d array\n",
        "np_3d=np.array([[[1,2,3],[4,5,6]],[[7,8,9],[10,11,12]]])\n",
        "for x in np_3d:\n",
        "  for y in x:\n",
        "    for z in y:\n",
        "      print(z)"
      ],
      "metadata": {
        "colab": {
          "base_uri": "https://localhost:8080/"
        },
        "id": "-3M_FYB4uAoe",
        "outputId": "4742afdc-9848-4c17-a694-970a4b8bacc2"
      },
      "execution_count": null,
      "outputs": [
        {
          "output_type": "stream",
          "name": "stdout",
          "text": [
            "1\n",
            "2\n",
            "3\n",
            "4\n",
            "5\n",
            "6\n",
            "7\n",
            "8\n",
            "9\n",
            "10\n",
            "11\n",
            "12\n"
          ]
        }
      ]
    },
    {
      "cell_type": "code",
      "source": [
        "#sorting arrays\n",
        "np_s=[6,5,4,7,8,9]\n",
        "print(np.sort(np_s))\n",
        "# sort returns a copy but doesn't change the original."
      ],
      "metadata": {
        "colab": {
          "base_uri": "https://localhost:8080/"
        },
        "id": "HjzP-OSWuArF",
        "outputId": "146b9fd7-e153-491b-83fd-c491fd827b3c"
      },
      "execution_count": null,
      "outputs": [
        {
          "output_type": "stream",
          "name": "stdout",
          "text": [
            "[4 5 6 7 8 9]\n"
          ]
        }
      ]
    },
    {
      "cell_type": "code",
      "source": [
        "# searching through numpy arrays\n",
        "np_search=np.array([1,2,3,4,5,6,7,8,9,10])\n",
        "x=np.where(np_search==6)\n",
        "print(x)"
      ],
      "metadata": {
        "colab": {
          "base_uri": "https://localhost:8080/"
        },
        "id": "Wffo7yCR7PxR",
        "outputId": "9709b192-0760-4348-ceab-2d5c2ab0098d"
      },
      "execution_count": null,
      "outputs": [
        {
          "output_type": "stream",
          "name": "stdout",
          "text": [
            "(array([5]),)\n"
          ]
        }
      ]
    },
    {
      "cell_type": "code",
      "source": [
        "np_search=np.array([1,2,3,4,5,6,7,8,9,10]) # didn't understand.\n",
        "index=np.where(np_search>5)\n",
        "index"
      ],
      "metadata": {
        "id": "ZG2o5b8diAix",
        "colab": {
          "base_uri": "https://localhost:8080/"
        },
        "outputId": "a10e940b-f255-42f6-b7e8-cffb79f242b7"
      },
      "execution_count": null,
      "outputs": [
        {
          "output_type": "execute_result",
          "data": {
            "text/plain": [
              "(array([5, 6, 7, 8, 9]),)"
            ]
          },
          "metadata": {},
          "execution_count": 31
        }
      ]
    },
    {
      "cell_type": "code",
      "source": [
        "np_search_new=[]\n",
        "for a in index:\n",
        "  np_search_new.append(a)\n",
        "print(np_search_new)\n"
      ],
      "metadata": {
        "id": "aTy5OekDjAfU",
        "colab": {
          "base_uri": "https://localhost:8080/"
        },
        "outputId": "227f97aa-9ed2-4d82-e378-06254fb37a94"
      },
      "execution_count": null,
      "outputs": [
        {
          "output_type": "stream",
          "name": "stdout",
          "text": [
            "[array([5, 6, 7, 8, 9])]\n"
          ]
        }
      ]
    },
    {
      "cell_type": "code",
      "source": [
        "np_search1= np.array([1,2,3,4,5,6,7,8,9,20])\n",
        "x1=np.where(np_search1>6)\n",
        "x1"
      ],
      "metadata": {
        "colab": {
          "base_uri": "https://localhost:8080/"
        },
        "id": "4Ap-0V_29oOH",
        "outputId": "d2462aa2-d586-4173-ba48-74fdf294e6ca"
      },
      "execution_count": null,
      "outputs": [
        {
          "output_type": "execute_result",
          "data": {
            "text/plain": [
              "(array([6, 7, 8, 9]),)"
            ]
          },
          "metadata": {},
          "execution_count": 75
        }
      ]
    },
    {
      "cell_type": "code",
      "source": [
        "np_search=np.array([1,2,3,4,5,6,7,8,9,10])\n",
        "x=np.where(np_search>4)\n",
        "print(x)"
      ],
      "metadata": {
        "colab": {
          "base_uri": "https://localhost:8080/"
        },
        "id": "p1ZkoS1P7T7l",
        "outputId": "b643abad-c89b-4c46-ee3a-988f37021219"
      },
      "execution_count": null,
      "outputs": [
        {
          "output_type": "stream",
          "name": "stdout",
          "text": [
            "(array([4, 5, 6, 7, 8, 9]),)\n"
          ]
        }
      ]
    },
    {
      "cell_type": "code",
      "source": [
        "np_one=np.array([1,2,3,4,5,6,7,8,9])\n",
        "np_2=np.where(np_one>5)\n"
      ],
      "metadata": {
        "id": "Lb0jDSHk7T-9"
      },
      "execution_count": null,
      "outputs": []
    },
    {
      "cell_type": "code",
      "source": [
        "#return even items\n",
        "np.where(np_search%2==0)\n"
      ],
      "metadata": {
        "colab": {
          "base_uri": "https://localhost:8080/"
        },
        "id": "7aZbBb6G7P0Z",
        "outputId": "1033be11-e711-4c69-e30b-392b191eed70"
      },
      "execution_count": null,
      "outputs": [
        {
          "output_type": "execute_result",
          "data": {
            "text/plain": [
              "(array([1, 3, 5, 7, 9]),)"
            ]
          },
          "metadata": {},
          "execution_count": 46
        }
      ]
    },
    {
      "cell_type": "code",
      "source": [
        "#filtering numpy arrays\n",
        "np_filter=np.array([1,2,4,5,6,7,7,7])\n",
        "x=[True, False,True, False,True, False,True,True]\n",
        "print(np_filter)\n",
        "print(np_filter[x])"
      ],
      "metadata": {
        "colab": {
          "base_uri": "https://localhost:8080/"
        },
        "id": "PRr3QF4B7P3J",
        "outputId": "646245d4-697d-4dd9-b086-559e4161e7e5"
      },
      "execution_count": null,
      "outputs": [
        {
          "output_type": "stream",
          "name": "stdout",
          "text": [
            "[1 2 4 5 6 7 7 7]\n",
            "[1 4 6 7 7]\n"
          ]
        }
      ]
    },
    {
      "cell_type": "code",
      "source": [
        "np_test=np.array([[5,6,8,9],[7,2,3,9],[4,5,6,7]])\n",
        "np_test"
      ],
      "metadata": {
        "id": "avOa0ZhS7QDc",
        "colab": {
          "base_uri": "https://localhost:8080/"
        },
        "outputId": "7fa0eb38-5d28-40d0-b267-206be825c0b2"
      },
      "execution_count": null,
      "outputs": [
        {
          "output_type": "execute_result",
          "data": {
            "text/plain": [
              "array([[5, 6, 8, 9],\n",
              "       [7, 2, 3, 9],\n",
              "       [4, 5, 6, 7]])"
            ]
          },
          "metadata": {},
          "execution_count": 34
        }
      ]
    },
    {
      "cell_type": "code",
      "source": [
        "np_test[0:,1:2] # didn't understand"
      ],
      "metadata": {
        "id": "-nOVVRaW7QGL",
        "colab": {
          "base_uri": "https://localhost:8080/"
        },
        "outputId": "03dbde4f-19c5-4736-b7d3-ba0af6491131"
      },
      "execution_count": null,
      "outputs": [
        {
          "output_type": "execute_result",
          "data": {
            "text/plain": [
              "array([[6],\n",
              "       [2],\n",
              "       [5]])"
            ]
          },
          "metadata": {},
          "execution_count": 35
        }
      ]
    },
    {
      "cell_type": "code",
      "source": [
        "np.where(np_test[0:,1:2]==5)"
      ],
      "metadata": {
        "id": "5FOuvDkF7QIu",
        "colab": {
          "base_uri": "https://localhost:8080/"
        },
        "outputId": "a0d3f9c5-bd9e-4f85-b469-ec6c09eb7a5d"
      },
      "execution_count": null,
      "outputs": [
        {
          "output_type": "execute_result",
          "data": {
            "text/plain": [
              "(array([2]), array([0]))"
            ]
          },
          "metadata": {},
          "execution_count": 34
        }
      ]
    },
    {
      "cell_type": "code",
      "source": [
        "list1 = [1,2,4]\n",
        "list2 = [1,3,4]\n",
        "#Output: [1,1,2,3,4,4]"
      ],
      "metadata": {
        "id": "g8xEE_ebAhCv"
      },
      "execution_count": null,
      "outputs": []
    },
    {
      "cell_type": "code",
      "source": [
        "array1=np.array(list1)\n",
        "array2=np.array(list2)"
      ],
      "metadata": {
        "id": "1tJj2tDHAhFy"
      },
      "execution_count": null,
      "outputs": []
    },
    {
      "cell_type": "code",
      "source": [
        "def testil(n):\n",
        "  testi=np.arange(0,10**n,1)\n",
        "  return testi"
      ],
      "metadata": {
        "id": "_g-RI9TsAhIt"
      },
      "execution_count": null,
      "outputs": []
    },
    {
      "cell_type": "code",
      "source": [
        "testil(6)"
      ],
      "metadata": {
        "colab": {
          "base_uri": "https://localhost:8080/"
        },
        "id": "-ZksJud2Dmz3",
        "outputId": "a24adc7f-7475-4d6c-cd0e-bcbe48cf0ca2"
      },
      "execution_count": null,
      "outputs": [
        {
          "output_type": "execute_result",
          "data": {
            "text/plain": [
              "array([     0,      1,      2, ..., 999997, 999998, 999999])"
            ]
          },
          "metadata": {},
          "execution_count": 38
        }
      ]
    }
  ]
}