{
  "nbformat": 4,
  "nbformat_minor": 0,
  "metadata": {
    "colab": {
      "provenance": [],
      "authorship_tag": "ABX9TyN5qrHU3Z2JDPsyhzqf5/O1"
    },
    "kernelspec": {
      "name": "python3",
      "display_name": "Python 3"
    },
    "language_info": {
      "name": "python"
    }
  },
  "cells": [
    {
      "cell_type": "code",
      "execution_count": null,
      "metadata": {
        "id": "LphsEfZ0cCF0"
      },
      "outputs": [],
      "source": [
        "# https://www.udemy.com/course/data-structures-and-algorithms-bootcamp-in-python/learn/lecture/18848308#notes"
      ]
    },
    {
      "cell_type": "markdown",
      "source": [
        "**1D array**"
      ],
      "metadata": {
        "id": "GWWeG9_I-GxL"
      }
    },
    {
      "cell_type": "code",
      "source": [
        "# How to create an array in python:\n",
        "# 1d arrays\n",
        "import numpy as np\n",
        "# create an empty array\n",
        "empty_array=np.array([])\n",
        "print(empty_array)\n",
        "# create non empty array\n",
        "non_empty_array=np.array([1,2,3,4,5], dtype=int)\n",
        "print(non_empty_array)\n",
        "# inserting into array\n",
        "non_empty_array1=np.insert(non_empty_array, 0, 7)\n",
        "print(non_empty_array1)\n",
        "# traversal operation\n",
        "for i in range(len(non_empty_array1)):\n",
        "  print(i, end=\" \\n\")\n",
        "# travers using a function\n",
        "def traverse_arra(arr):\n",
        "  for i in arr:\n",
        "    print(i, end=\" \")\n",
        "traverse_arra(non_empty_array)"
      ],
      "metadata": {
        "colab": {
          "base_uri": "https://localhost:8080/"
        },
        "id": "KSVuoHvCbaAz",
        "outputId": "ddea835b-a7ef-4b4a-dc31-fd8dcf984402"
      },
      "execution_count": null,
      "outputs": [
        {
          "output_type": "stream",
          "name": "stdout",
          "text": [
            "[]\n",
            "[1 2 3 4 5]\n",
            "[7 1 2 3 4 5]\n",
            "0 \n",
            "1 \n",
            "2 \n",
            "3 \n",
            "4 \n",
            "5 \n",
            "1 2 3 4 5 "
          ]
        }
      ]
    },
    {
      "cell_type": "code",
      "source": [
        "23\n"
      ],
      "metadata": {
        "id": "fQ5eSmYNc0Ez"
      },
      "execution_count": null,
      "outputs": []
    },
    {
      "cell_type": "code",
      "source": [
        "array1=np.array([5,7,8,5,0])\n",
        "print(array1[3])\n",
        "#function to access element by index\n",
        "def access_by_index(array,index):\n",
        "  if len(array)<index+1:\n",
        "    print('index out of bound')\n",
        "  else:\n",
        "    print(f'the index {index} holds element {array[index]}')\n",
        "access_by_index(array1,2)"
      ],
      "metadata": {
        "id": "uGHxrfivcu8z",
        "colab": {
          "base_uri": "https://localhost:8080/"
        },
        "outputId": "a1731a4e-55e1-4fe6-a87c-7825c3d4c972"
      },
      "execution_count": null,
      "outputs": [
        {
          "output_type": "stream",
          "name": "stdout",
          "text": [
            "5\n",
            "the index 2 holds element 8\n"
          ]
        }
      ]
    },
    {
      "cell_type": "code",
      "source": [],
      "metadata": {
        "id": "5JAktB-jLYIK"
      },
      "execution_count": null,
      "outputs": []
    },
    {
      "cell_type": "code",
      "source": [
        "# access to elemtnt by index\n"
      ],
      "metadata": {
        "colab": {
          "base_uri": "https://localhost:8080/"
        },
        "id": "mUD4JXnMmzG2",
        "outputId": "2a835758-254f-4bd9-8cda-9822807e962f"
      },
      "execution_count": null,
      "outputs": [
        {
          "output_type": "stream",
          "name": "stdout",
          "text": [
            "index is out of bounds\n"
          ]
        }
      ]
    },
    {
      "cell_type": "code",
      "source": [
        "# slicing an array\n",
        "def index_with_slice(array, index_begins, index_ends):\n",
        "  if index_ends+1>len(array):\n",
        "    print(\"index out of bounds\")\n",
        "  elif index_begins==index_ends:\n",
        "    return array[index_begins]\n",
        "  elif index_begins>index_ends:\n",
        "    print(\"wrong index\")\n",
        "  else:\n",
        "    return array[index_begins:index_ends]\n",
        "print(index_with_slice(array1, 3, 4))\n",
        "print(array1)"
      ],
      "metadata": {
        "colab": {
          "base_uri": "https://localhost:8080/"
        },
        "id": "_513SCEJg7Qu",
        "outputId": "78238c51-805c-4db4-d904-8c7e6916e17e"
      },
      "execution_count": null,
      "outputs": [
        {
          "output_type": "stream",
          "name": "stdout",
          "text": [
            "[5]\n",
            "[5 7 8 5 0]\n"
          ]
        }
      ]
    },
    {
      "cell_type": "code",
      "source": [
        "# searching for element in array\n",
        "search_array=np.array([1,2,6,78,99,45])\n",
        "def searching_array(array, target):\n",
        "  for i in range(len(array)):\n",
        "    if array[i]==target:\n",
        "      print(\"the target\", target, \"is in\", i)\n",
        "searching_array(search_array,6)\n",
        "print(np.where(search_array==78))\n"
      ],
      "metadata": {
        "id": "psllcb_ic14r",
        "colab": {
          "base_uri": "https://localhost:8080/"
        },
        "outputId": "4a06e446-9629-4d66-d2e1-d08695d06655"
      },
      "execution_count": null,
      "outputs": [
        {
          "output_type": "stream",
          "name": "stdout",
          "text": [
            "the target 6 is in 2\n",
            "(array([3]),)\n"
          ]
        }
      ]
    },
    {
      "cell_type": "code",
      "source": [
        "# deleting an element in array\n",
        "delete_array=np.array([1,2,4,5,6,7,9,14])\n",
        "delete_array1=np.delete(delete_array,4)\n",
        "print(delete_array1)"
      ],
      "metadata": {
        "colab": {
          "base_uri": "https://localhost:8080/"
        },
        "id": "c-X50inYlK8X",
        "outputId": "412d22db-50d4-4a4d-e4a6-27959d5c4082"
      },
      "execution_count": null,
      "outputs": [
        {
          "output_type": "stream",
          "name": "stdout",
          "text": [
            "[ 1  2  4  5  7  9 14]\n"
          ]
        }
      ]
    },
    {
      "cell_type": "code",
      "source": [
        "# write a function to delete array by index\n",
        "def delete_element_by_index(array, index):\n",
        "  if index+1>len(array):\n",
        "    print(\"out of bounds\")\n",
        "  else:\n",
        "    print(f'the element {array[index]} from {array} is deleted \\n , and new array is {np.delete(array,index)}')\n",
        "\n",
        "delete_element_by_index(np.array([1,2,3,4,5,6,7]), 3)"
      ],
      "metadata": {
        "colab": {
          "base_uri": "https://localhost:8080/"
        },
        "id": "1MW6aQ1Xn5xU",
        "outputId": "ab6cc7e5-8924-4de2-d781-93589ef65278"
      },
      "execution_count": null,
      "outputs": [
        {
          "output_type": "stream",
          "name": "stdout",
          "text": [
            "the element 4 from [1 2 3 4 5 6 7] is deleted \n",
            " , and new array is [1 2 3 5 6 7]\n"
          ]
        }
      ]
    },
    {
      "cell_type": "code",
      "source": [
        "# exercise for 1D array. Do it later. lecture 34"
      ],
      "metadata": {
        "id": "5Yxh_awzn54d"
      },
      "execution_count": null,
      "outputs": []
    },
    {
      "cell_type": "code",
      "source": [
        "# delete array element by value not index\n",
        "delete_value=np.array([88,99,54,23,26,27])\n",
        "def delete_by_value(arr, value):\n",
        "  for i in range(len(arr)):\n",
        "    if arr[i]==value:\n",
        "      print(f'the value {value} is deleted from {arr}, \\n new array is {np.delete(arr,i)}')\n",
        "delete_by_value(delete_value,27)"
      ],
      "metadata": {
        "id": "6b4fKWny1RV1",
        "colab": {
          "base_uri": "https://localhost:8080/"
        },
        "outputId": "1f63e0fa-ccd4-462a-d4ae-2700d81eadf7"
      },
      "execution_count": null,
      "outputs": [
        {
          "output_type": "stream",
          "name": "stdout",
          "text": [
            "the value 27 is deleted from [88 99 54 23 26 27], \n",
            " new array is [88 99 54 23 26]\n"
          ]
        }
      ]
    },
    {
      "cell_type": "code",
      "source": [],
      "metadata": {
        "id": "fqHLo6Hn1RYP"
      },
      "execution_count": null,
      "outputs": []
    },
    {
      "cell_type": "code",
      "source": [],
      "metadata": {
        "id": "ILckvOzBsLBd"
      },
      "execution_count": null,
      "outputs": []
    },
    {
      "cell_type": "code",
      "source": [],
      "metadata": {
        "id": "_POksIXl4PKX"
      },
      "execution_count": null,
      "outputs": []
    },
    {
      "cell_type": "code",
      "source": [],
      "metadata": {
        "id": "7uG4cfkr4Pbh"
      },
      "execution_count": null,
      "outputs": []
    },
    {
      "cell_type": "code",
      "source": [],
      "metadata": {
        "id": "hEU_n8Pf4Pku"
      },
      "execution_count": null,
      "outputs": []
    },
    {
      "cell_type": "markdown",
      "source": [
        "**2D array**"
      ],
      "metadata": {
        "id": "aN8GS8TD-Oqv"
      }
    },
    {
      "cell_type": "code",
      "source": [
        "# creating two dimensional array\n",
        "import numpy as np\n",
        "twoDArray=np.array([[1,2,3,4],[3,4,5,6],[5,6,7,8],[2,7,9,12]])\n",
        "print(twoDArray)"
      ],
      "metadata": {
        "colab": {
          "base_uri": "https://localhost:8080/"
        },
        "id": "f2i06RF5cgxn",
        "outputId": "303b1d75-4220-41b9-8d83-0f165ec3ce0e"
      },
      "execution_count": null,
      "outputs": [
        {
          "output_type": "stream",
          "name": "stdout",
          "text": [
            "[[ 1  2  3  4]\n",
            " [ 3  4  5  6]\n",
            " [ 5  6  7  8]\n",
            " [ 2  7  9 12]]\n"
          ]
        }
      ]
    },
    {
      "cell_type": "code",
      "source": [
        "# insertion a new value into twoD array\n",
        "twoDArraynew=np.insert(twoDArray, 0, [11,22,33,44], axis=0) #row wise\n",
        "twoDArraynew1=np.insert(twoDArray, 0, [11,22,33,44], axis=1) #column wise"
      ],
      "metadata": {
        "id": "XBaVapdPdUuf"
      },
      "execution_count": null,
      "outputs": []
    },
    {
      "cell_type": "code",
      "source": [
        "print(twoDArraynew)\n",
        "twoDArraynew.shape[0]"
      ],
      "metadata": {
        "colab": {
          "base_uri": "https://localhost:8080/"
        },
        "id": "6hXWYBBhAE6j",
        "outputId": "24a0d80d-5c6e-4056-c0f5-b260e5f998bb"
      },
      "execution_count": null,
      "outputs": [
        {
          "output_type": "stream",
          "name": "stdout",
          "text": [
            "[[11 22 33 44]\n",
            " [ 1  2  3  4]\n",
            " [ 3  4  5  6]\n",
            " [ 5  6  7  8]\n",
            " [ 2  7  9 12]]\n"
          ]
        },
        {
          "output_type": "execute_result",
          "data": {
            "text/plain": [
              "5"
            ]
          },
          "metadata": {},
          "execution_count": 53
        }
      ]
    },
    {
      "cell_type": "code",
      "source": [
        "# access into twodimensional array\n",
        "def access_two_d_array(array, index_row, index_column):\n",
        "  if index_row+1>array.shape[0] or index_column+1>array.shape[1]:\n",
        "    print(\"out of bounds\")\n",
        "  else:\n",
        "    print(array[index_row,index_column])\n",
        "\n",
        "access_two_d_array(twoDArray,2,1)\n",
        "print(twoDArray)"
      ],
      "metadata": {
        "colab": {
          "base_uri": "https://localhost:8080/"
        },
        "id": "K-5C4gB2eDtW",
        "outputId": "f724a421-ca70-44bb-91d3-d9c4eaf3ed8e"
      },
      "execution_count": null,
      "outputs": [
        {
          "output_type": "stream",
          "name": "stdout",
          "text": [
            "6\n",
            "[[ 1  2  3  4]\n",
            " [ 3  4  5  6]\n",
            " [ 5  6  7  8]\n",
            " [ 2  7  9 12]]\n"
          ]
        }
      ]
    },
    {
      "cell_type": "code",
      "source": [
        "# traversing to twod d array\n",
        "def traverse_2d(array):\n",
        "  for i in range(array.shape[0]):\n",
        "    for j in range(array.shape[1]):\n",
        "      print(array[i,j], end=\" \")\n",
        "traverse_2d(twoDArraynew)"
      ],
      "metadata": {
        "colab": {
          "base_uri": "https://localhost:8080/"
        },
        "id": "-774R9KEcg3X",
        "outputId": "8f05c51c-4769-4c94-f389-9ecdeb220f50"
      },
      "execution_count": null,
      "outputs": [
        {
          "output_type": "stream",
          "name": "stdout",
          "text": [
            "11 22 33 44 1 2 3 4 3 4 5 6 5 6 7 8 2 7 9 12 "
          ]
        }
      ]
    },
    {
      "cell_type": "code",
      "source": [
        "twoDArray"
      ],
      "metadata": {
        "colab": {
          "base_uri": "https://localhost:8080/"
        },
        "id": "LseX-I_hFYew",
        "outputId": "f9b847f2-e11f-40e9-8776-58dddaecf786"
      },
      "execution_count": null,
      "outputs": [
        {
          "output_type": "execute_result",
          "data": {
            "text/plain": [
              "array([[ 1,  2,  3,  4],\n",
              "       [ 3,  4,  5,  6],\n",
              "       [ 5,  6,  7,  8],\n",
              "       [ 2,  7,  9, 12]])"
            ]
          },
          "metadata": {},
          "execution_count": 231
        }
      ]
    },
    {
      "cell_type": "code",
      "source": [
        "# searching two d array\n",
        "def searching_2d(array, target):\n",
        "  for i in range(array.shape[0]):\n",
        "    for j in range(array.shape[1]):\n",
        "      if array[i][j]==target:\n",
        "        return i,j\n",
        "searching_2d(twoDArray,9)"
      ],
      "metadata": {
        "id": "CGZfX_G3fGY4",
        "colab": {
          "base_uri": "https://localhost:8080/"
        },
        "outputId": "7f4a9da8-512a-42e4-d974-3f23477e43ec"
      },
      "execution_count": null,
      "outputs": [
        {
          "output_type": "execute_result",
          "data": {
            "text/plain": [
              "(3, 2)"
            ]
          },
          "metadata": {},
          "execution_count": 60
        }
      ]
    },
    {
      "cell_type": "code",
      "source": [
        "# deletion of two d array\n",
        "delete_array=np.array([[1,2,3,4],[2,7,8,9],[7,8,6,55],[7,12,34,56]])\n",
        "np.delete(delete_array,0, axis=1)"
      ],
      "metadata": {
        "colab": {
          "base_uri": "https://localhost:8080/"
        },
        "id": "oqa89igtfmcv",
        "outputId": "5a2cb5ae-a196-4cdd-b735-6b56d18740df"
      },
      "execution_count": null,
      "outputs": [
        {
          "output_type": "execute_result",
          "data": {
            "text/plain": [
              "array([[ 2,  3,  4],\n",
              "       [ 7,  8,  9],\n",
              "       [ 8,  6, 55],\n",
              "       [12, 34, 56]])"
            ]
          },
          "metadata": {},
          "execution_count": 334
        }
      ]
    },
    {
      "cell_type": "markdown",
      "source": [
        " <b>Section 4 list </b>\n"
      ],
      "metadata": {
        "id": "cDjWeL8DHlDl"
      }
    },
    {
      "cell_type": "code",
      "source": [
        "#creating empty list\n",
        "list1=[]\n",
        "#non empty\n",
        "list2=[1,2,3,'t',True]\n",
        "print(list2)"
      ],
      "metadata": {
        "colab": {
          "base_uri": "https://localhost:8080/"
        },
        "id": "C4Nw2lvSlPvZ",
        "outputId": "264edcae-b65b-4b5e-8f0a-81216a82b525"
      },
      "execution_count": null,
      "outputs": [
        {
          "output_type": "stream",
          "name": "stdout",
          "text": [
            "[1, 2, 3, 't', True]\n"
          ]
        }
      ]
    },
    {
      "cell_type": "code",
      "source": [
        "# traversing a list\n",
        "for i in list2:\n",
        "  print(i)\n",
        "print(3 in list2)\n",
        "print(list2[::-1])"
      ],
      "metadata": {
        "colab": {
          "base_uri": "https://localhost:8080/"
        },
        "id": "Fjm_gHFjMDbd",
        "outputId": "9d2cee40-885f-4730-b47a-b57b1bc85f8e"
      },
      "execution_count": null,
      "outputs": [
        {
          "output_type": "stream",
          "name": "stdout",
          "text": [
            "1\n",
            "2\n",
            "3\n",
            "t\n",
            "True\n",
            "True\n",
            "[True, 't', 3, 2, 1]\n"
          ]
        }
      ]
    },
    {
      "cell_type": "code",
      "source": [],
      "metadata": {
        "id": "f_o4Esm0MDe3"
      },
      "execution_count": null,
      "outputs": []
    },
    {
      "cell_type": "code",
      "source": [],
      "metadata": {
        "id": "qlp10YwjMDhZ"
      },
      "execution_count": null,
      "outputs": []
    },
    {
      "cell_type": "code",
      "source": [
        "\n",
        "# slice/delete\n",
        "mylist=[1,2,3,4,5]\n",
        "del(mylist[0])\n",
        "print(mylist)\n",
        "del(mylist[0:2])\n",
        "print(mylist)"
      ],
      "metadata": {
        "colab": {
          "base_uri": "https://localhost:8080/"
        },
        "id": "HP5DDnFfMDj0",
        "outputId": "0a572ea9-9910-4723-dd9d-a6a8ae40f0b6"
      },
      "execution_count": null,
      "outputs": [
        {
          "output_type": "stream",
          "name": "stdout",
          "text": [
            "[2, 3, 4, 5]\n",
            "[4, 5]\n"
          ]
        }
      ]
    },
    {
      "cell_type": "code",
      "source": [
        "def maxProfit(prices):\n",
        "  buy=min(prices)\n",
        "  for i in range(len(prices)):\n",
        "    if prices[i]==min(prices):\n",
        "      x=i\n",
        "  new_prices=prices[x:]\n",
        "  sell=max(new_prices)\n",
        "  print(sell-buy)\n",
        "maxProfit([7,6,4,3,1])"
      ],
      "metadata": {
        "colab": {
          "base_uri": "https://localhost:8080/"
        },
        "id": "-3RbRbzhdBf_",
        "outputId": "e860de80-bba5-460c-e436-c465261f063d"
      },
      "execution_count": null,
      "outputs": [
        {
          "output_type": "stream",
          "name": "stdout",
          "text": [
            "0\n"
          ]
        }
      ]
    },
    {
      "cell_type": "code",
      "source": [],
      "metadata": {
        "id": "v1Gst6vSe9F2"
      },
      "execution_count": null,
      "outputs": []
    },
    {
      "cell_type": "markdown",
      "source": [
        "\n",
        "\n",
        "```\n",
        "# This is formatted as code\n",
        "```\n",
        "\n"
      ],
      "metadata": {
        "id": "8hghaEk3HkQo"
      }
    },
    {
      "cell_type": "code",
      "source": [
        "mylist=[1,2,3,4,4,5]\n",
        "mylist.remove(4)\n",
        "print(mylist)"
      ],
      "metadata": {
        "colab": {
          "base_uri": "https://localhost:8080/"
        },
        "id": "cGZImDDQlPyP",
        "outputId": "c012bb68-1e34-4cbd-ca36-de90737ae595"
      },
      "execution_count": null,
      "outputs": [
        {
          "output_type": "stream",
          "name": "stdout",
          "text": [
            "[1, 2, 3, 4, 5]\n"
          ]
        }
      ]
    },
    {
      "cell_type": "code",
      "source": [
        "# searching for an element in the list\n",
        "mylist=[10,20,30,40,50,60,70,80]\n",
        "if 200 in mylist:\n",
        "  print(200, \"in the list\")\n",
        "else:\n",
        "   print(\"not in the list\")\n"
      ],
      "metadata": {
        "colab": {
          "base_uri": "https://localhost:8080/"
        },
        "id": "MMEOE5FhlP04",
        "outputId": "06c1a0d5-872e-432b-ec3d-868bc8795b4d"
      },
      "execution_count": null,
      "outputs": [
        {
          "output_type": "stream",
          "name": "stdout",
          "text": [
            "not in the list\n"
          ]
        }
      ]
    },
    {
      "cell_type": "code",
      "source": [
        "#linear search\n",
        "target=60\n",
        "for i in range(len(mylist)):\n",
        "  if mylist[i] ==target:\n",
        "    print(i)"
      ],
      "metadata": {
        "colab": {
          "base_uri": "https://localhost:8080/"
        },
        "id": "cuVhzfCrlP31",
        "outputId": "7833c09d-ee6a-4643-e015-4507dbfc724f"
      },
      "execution_count": null,
      "outputs": [
        {
          "output_type": "stream",
          "name": "stdout",
          "text": [
            "5\n"
          ]
        }
      ]
    },
    {
      "cell_type": "code",
      "source": [
        "# function for linear search\n",
        "def linear_search(list, value):\n",
        "  for i in range(len(list)):\n",
        "    if list[i]==value:\n",
        "      print(i)\n",
        "linear_search(mylist,60)"
      ],
      "metadata": {
        "colab": {
          "base_uri": "https://localhost:8080/"
        },
        "id": "9UeX96Zlog0Z",
        "outputId": "2829a4ba-9a01-467a-e0f8-5cceb3c7f3f0"
      },
      "execution_count": null,
      "outputs": [
        {
          "output_type": "stream",
          "name": "stdout",
          "text": [
            "5\n"
          ]
        }
      ]
    },
    {
      "cell_type": "code",
      "source": [
        "def another_linear_search(p_list, p_target):\n",
        "  for i, value in enumerate(p_list):\n",
        "    if value==p_target:\n",
        "      return i\n",
        "  return -1 # writing return-1 outside of the function means that the element doesn't exist in the list\n",
        "\n",
        "another_linear_search([10,20,30,50,60], 60)"
      ],
      "metadata": {
        "colab": {
          "base_uri": "https://localhost:8080/"
        },
        "id": "n_yqT5S6og28",
        "outputId": "259e2f77-4f6c-4eb3-f77d-26831ade1cda"
      },
      "execution_count": null,
      "outputs": [
        {
          "output_type": "execute_result",
          "data": {
            "text/plain": [
              "4"
            ]
          },
          "metadata": {},
          "execution_count": 241
        }
      ]
    },
    {
      "cell_type": "code",
      "source": [
        "print(mylist*3)\n",
        "print(mylist+[23,34])"
      ],
      "metadata": {
        "colab": {
          "base_uri": "https://localhost:8080/"
        },
        "id": "ryHBKDR9og5x",
        "outputId": "b79e4b2c-7dba-4e2a-c777-04c2ea716f72"
      },
      "execution_count": null,
      "outputs": [
        {
          "output_type": "stream",
          "name": "stdout",
          "text": [
            "[10, 20, 30, 40, 50, 60, 70, 80, 10, 20, 30, 40, 50, 60, 70, 80, 10, 20, 30, 40, 50, 60, 70, 80]\n",
            "[10, 20, 30, 40, 50, 60, 70, 80, 23, 34]\n"
          ]
        }
      ]
    },
    {
      "cell_type": "code",
      "source": [
        "# list functions: len, max, min, sum\n",
        "a=[4,5,6,8,9,11,2,34,67]\n",
        "print(max(a))\n",
        "print(min(a))\n",
        "print(len(a))\n"
      ],
      "metadata": {
        "colab": {
          "base_uri": "https://localhost:8080/"
        },
        "id": "tx-3G9PKr2HE",
        "outputId": "e19ecd53-d8a7-42be-afe7-66341a6a459f"
      },
      "execution_count": null,
      "outputs": [
        {
          "output_type": "stream",
          "name": "stdout",
          "text": [
            "67\n",
            "2\n",
            "9\n"
          ]
        }
      ]
    },
    {
      "cell_type": "code",
      "source": [
        "sum=0\n",
        "for i in range(len(a)):\n",
        "  sum=sum+a[i]\n",
        "print(sum)"
      ],
      "metadata": {
        "colab": {
          "base_uri": "https://localhost:8080/"
        },
        "id": "wyPs-7r5SMYJ",
        "outputId": "0762a5a8-6542-4f07-9db0-7c120e901a5b"
      },
      "execution_count": null,
      "outputs": [
        {
          "output_type": "stream",
          "name": "stdout",
          "text": [
            "146\n"
          ]
        }
      ]
    },
    {
      "cell_type": "code",
      "source": [
        "sum1=0\n",
        "for i in mylist:\n",
        "  sum1=sum1+i\n",
        "print(sum1)\n",
        "#print(sum(mylist))\n"
      ],
      "metadata": {
        "colab": {
          "base_uri": "https://localhost:8080/"
        },
        "id": "uZ8j1H1BsJFv",
        "outputId": "bc6d97f8-d0fb-4938-bcda-68f7ff609d22"
      },
      "execution_count": null,
      "outputs": [
        {
          "output_type": "stream",
          "name": "stdout",
          "text": [
            "360\n"
          ]
        }
      ]
    },
    {
      "cell_type": "code",
      "source": [
        "# do it later https://www.udemy.com/course/data-structures-and-algorithms-bootcamp-in-python/learn/lecture/18935902#notes\n",
        "# splitting the list\n",
        "a=\"Nesar Ahmed Titu\"\n",
        "aa=\"Nesar-Ahmed-Titu\"\n",
        "c=a.split(\" \")\n",
        "print(c)\n",
        "d=aa.split(\"-\")\n",
        "print(d)\n",
        "x=[i for i in a]\n",
        "print(x)\n",
        "print(a.split())"
      ],
      "metadata": {
        "colab": {
          "base_uri": "https://localhost:8080/"
        },
        "id": "mH-lZD4FsJIt",
        "outputId": "7ab5cb56-9a7f-4efd-8a94-2f160b76a022"
      },
      "execution_count": null,
      "outputs": [
        {
          "output_type": "stream",
          "name": "stdout",
          "text": [
            "['Nesar', 'Ahmed', 'Titu']\n",
            "['Nesar', 'Ahmed', 'Titu']\n",
            "['N', 'e', 's', 'a', 'r', ' ', 'A', 'h', 'm', 'e', 'd', ' ', 'T', 'i', 't', 'u']\n",
            "['Nesar', 'Ahmed', 'Titu']\n"
          ]
        }
      ]
    },
    {
      "cell_type": "code",
      "source": [],
      "metadata": {
        "id": "RZqRmO00UNGe"
      },
      "execution_count": null,
      "outputs": []
    },
    {
      "cell_type": "code",
      "source": [
        "#\n",
        "#delimiter.join(list)\n",
        "#print(\"\".join(b))\n",
        "str1=\"My name is Nesar, I am not happy, but I will be happy soon.\"\n",
        "str2=[a for a in str1]\n",
        "print(str2)\n",
        "str3=\"\".join(str2)\n",
        "print(str3)\n"
      ],
      "metadata": {
        "colab": {
          "base_uri": "https://localhost:8080/"
        },
        "id": "qxx16rg1WpI9",
        "outputId": "09aa6f20-d939-4c17-f27c-721be92beb9f"
      },
      "execution_count": null,
      "outputs": [
        {
          "output_type": "stream",
          "name": "stdout",
          "text": [
            "['M', 'y', ' ', 'n', 'a', 'm', 'e', ' ', 'i', 's', ' ', 'N', 'e', 's', 'a', 'r', ',', ' ', 'I', ' ', 'a', 'm', ' ', 'n', 'o', 't', ' ', 'h', 'a', 'p', 'p', 'y', ',', ' ', 'b', 'u', 't', ' ', 'I', ' ', 'w', 'i', 'l', 'l', ' ', 'b', 'e', ' ', 'h', 'a', 'p', 'p', 'y', ' ', 's', 'o', 'o', 'n', '.']\n",
            "My name is Nesar, I am not happy, but I will be happy soon.\n"
          ]
        }
      ]
    },
    {
      "cell_type": "code",
      "source": [
        "# list comprehension\n",
        "fruit_list1 = ['Apple', 'Berry', 'Cherry', 'Papaya']\n",
        "fruit_list2 = fruit_list1\n",
        "fruit_list3 = fruit_list1[:]\n",
        "\n",
        "fruit_list2[0] = 'Guava'\n",
        "fruit_list3[1] = 'Kiwi'\n",
        "print(fruit_list2)\n",
        "print(fruit_list3)"
      ],
      "metadata": {
        "colab": {
          "base_uri": "https://localhost:8080/"
        },
        "id": "ATPgX7ckbNEg",
        "outputId": "176b4fdb-512e-4e0a-f571-bc766b9306e5"
      },
      "execution_count": null,
      "outputs": [
        {
          "output_type": "stream",
          "name": "stdout",
          "text": [
            "['Guava', 'Berry', 'Cherry', 'Papaya']\n",
            "['Apple', 'Kiwi', 'Cherry', 'Papaya']\n"
          ]
        }
      ]
    },
    {
      "cell_type": "code",
      "source": [
        "# recursion and save value to the list from list\n",
        "empty_list=[]\n",
        "lll=[6,7,8,9,10]\n",
        "def list_recursion(lis):\n",
        "  for i in range(len(lis)):\n",
        "    empty_list.append(lis[i])\n",
        "  return empty_list\n",
        "list_recursion(lll)"
      ],
      "metadata": {
        "id": "3UM1VuJQBjmX",
        "colab": {
          "base_uri": "https://localhost:8080/"
        },
        "outputId": "2bbcaef1-f4ef-4241-e2e0-1e256e3ae9fa"
      },
      "execution_count": null,
      "outputs": [
        {
          "output_type": "execute_result",
          "data": {
            "text/plain": [
              "[6, 7, 8, 9, 10]"
            ]
          },
          "metadata": {},
          "execution_count": 358
        }
      ]
    },
    {
      "cell_type": "markdown",
      "source": [
        "**Section 5: Project array/list**"
      ],
      "metadata": {
        "id": "MjV3hLUZBkJy"
      }
    },
    {
      "cell_type": "code",
      "source": [
        "from array import *\n",
        "import numpy as np\n",
        "days=int(input(\"How many days temereture you want? \"))\n",
        "total_temp=0\n",
        "temps=[]\n",
        "for i in range(1,days+1):\n",
        "  temp=int(input(\"day:\" + str(i)+ \" highest temperature\"))\n",
        "  total_temp=total_temp+temp\n",
        "  temp_list=temps.append(temp)\n",
        "print(temp_list)\n",
        "\n",
        "\n"
      ],
      "metadata": {
        "id": "Xc2FveFibNHS",
        "colab": {
          "base_uri": "https://localhost:8080/"
        },
        "outputId": "ce281893-fa9f-42f1-dc0a-211fee48585c"
      },
      "execution_count": null,
      "outputs": [
        {
          "output_type": "stream",
          "name": "stdout",
          "text": [
            "How many days temereture you want? 3\n",
            "day:1 highest temperature23\n",
            "day:2 highest temperature33\n",
            "day:3 highest temperature33\n",
            "None\n"
          ]
        }
      ]
    },
    {
      "cell_type": "code",
      "source": [
        "average=total_temp/i\n",
        "count=0\n",
        "for i in range(1,days+1):\n",
        "  if temp>average:\n",
        "    count=count+1\n",
        "print(count)"
      ],
      "metadata": {
        "colab": {
          "base_uri": "https://localhost:8080/"
        },
        "id": "nqvTlSZ2U8Rd",
        "outputId": "c819d777-74bd-44eb-f188-813879eab4de"
      },
      "execution_count": null,
      "outputs": [
        {
          "output_type": "stream",
          "name": "stdout",
          "text": [
            "3\n"
          ]
        }
      ]
    },
    {
      "cell_type": "code",
      "source": [
        "a=[25,56]\n",
        "for i in range(len(a)):\n",
        "  a.append(a[i])\n",
        "print(a)"
      ],
      "metadata": {
        "id": "ZqAKqclmbNJo",
        "colab": {
          "base_uri": "https://localhost:8080/"
        },
        "outputId": "c898cd4d-008d-4b1d-cb4c-1b0c984fe17b"
      },
      "execution_count": null,
      "outputs": [
        {
          "output_type": "stream",
          "name": "stdout",
          "text": [
            "[25, 56, 25, 56]\n"
          ]
        }
      ]
    },
    {
      "cell_type": "markdown",
      "source": [
        "**Section 8: Dictionary**"
      ],
      "metadata": {
        "id": "Sw6rbjyZRqk8"
      }
    },
    {
      "cell_type": "code",
      "source": [
        "# creating an empty dictionary in python\n",
        "dictionary_empty={}\n",
        "print(type(dictionary_empty))\n",
        "# creating a non empty dictionary\n",
        "dictio={\"key 1\":13,\n",
        "      \"key 2\": 23,\n",
        "      \"key 3\": 33}\n",
        "print(dictio)\n",
        "print(dictio[\"key 1\"])\n",
        "# inserting a value in dictionary\n",
        "dictio[\"Key 4\"]=44\n",
        "print(dictio)\n",
        "#updating a value in dictionary\n",
        "dictio[\"Key 4\"]=4400\n",
        "print(dictio)\n"
      ],
      "metadata": {
        "id": "NvdmmtqMYbUL",
        "colab": {
          "base_uri": "https://localhost:8080/"
        },
        "outputId": "d098d97d-8fd4-4dc4-e0c4-6af5ee79321d"
      },
      "execution_count": null,
      "outputs": [
        {
          "output_type": "stream",
          "name": "stdout",
          "text": [
            "<class 'dict'>\n",
            "{'key 1': 13, 'key 2': 23, 'key 3': 33}\n",
            "13\n",
            "{'key 1': 13, 'key 2': 23, 'key 3': 33, 'Key 4': 44}\n",
            "{'key 1': 13, 'key 2': 23, 'key 3': 33, 'Key 4': 4400}\n"
          ]
        }
      ]
    },
    {
      "cell_type": "code",
      "source": [
        "# iterate through keys, values and items (items mean both keys and values)\n",
        "for v1,v2 in dictio.items():\n",
        "  print(v1,v2)\n",
        "for (v1) in dictio.keys():\n",
        "  print(v1)\n",
        "for (v1) in dictio.values():\n",
        "  print(v1)"
      ],
      "metadata": {
        "colab": {
          "base_uri": "https://localhost:8080/"
        },
        "id": "mMKrCfATY5tP",
        "outputId": "09ddb090-5def-4ac2-de66-2ef4bae65c55"
      },
      "execution_count": null,
      "outputs": [
        {
          "output_type": "stream",
          "name": "stdout",
          "text": [
            "key 3 33\n",
            "Key 4 4400\n",
            "key 3\n",
            "Key 4\n",
            "33\n",
            "4400\n"
          ]
        }
      ]
    },
    {
      "cell_type": "code",
      "source": [
        "# searching for an element in dictionary. This is my ways without following any grammar. But I am happy!\n",
        "print(dictio)\n",
        "listi_keys=[]\n",
        "listi_values=[]\n",
        "for i in dictio.keys():\n",
        "  listi_keys.append(i)\n",
        "for j in dictio.values():\n",
        "  listi_values.append(j)\n",
        "print(listi_keys)\n",
        "print(listi_values)\n",
        "for i in range(len(listi_values)):\n",
        "  if listi_values[i]==4400:\n",
        "    print(listi_keys[i])"
      ],
      "metadata": {
        "colab": {
          "base_uri": "https://localhost:8080/"
        },
        "id": "FAjqLMfQRKXI",
        "outputId": "ef25d29e-3019-4eb3-9778-b1c0cb540c84"
      },
      "execution_count": null,
      "outputs": [
        {
          "output_type": "stream",
          "name": "stdout",
          "text": [
            "{'key 3': 33, 'Key 4': 4400}\n",
            "['key 3', 'Key 4']\n",
            "[33, 4400]\n",
            "Key 4\n"
          ]
        }
      ]
    },
    {
      "cell_type": "code",
      "source": [
        "# easy way\n",
        "def dictionary_search(dictionary,value):\n",
        "  for (i,j) in dictionary.items():\n",
        "    if dictionary[i]==value:\n",
        "      return i,j\n",
        "  return \"the value doesn't exist\"\n",
        "dictionary_search(dictio,23)"
      ],
      "metadata": {
        "colab": {
          "base_uri": "https://localhost:8080/"
        },
        "id": "Ms7tFlDvRKaX",
        "outputId": "3d1caf35-2d3b-4dd1-dc1d-72302a9b585c"
      },
      "execution_count": null,
      "outputs": [
        {
          "output_type": "execute_result",
          "data": {
            "text/plain": [
              "('key 2', 23)"
            ]
          },
          "metadata": {},
          "execution_count": 83
        }
      ]
    },
    {
      "cell_type": "code",
      "source": [
        "# delete/remove an item from the dictionary\n",
        "my_dict1={'uno':1,\n",
        "          'des':2,\n",
        "          'tres':3,\n",
        "          'kappa':4}\n",
        "del my_dict1['des']\n",
        "print(my_dict1)\n",
        "my_dict1.popitem()\n",
        "print(my_dict1)\n",
        "my_dict1.clear()\n",
        "print(my_dict1)"
      ],
      "metadata": {
        "id": "F2EEpy9aVvny",
        "colab": {
          "base_uri": "https://localhost:8080/"
        },
        "outputId": "f95322e6-6a9c-4c14-b5d3-a33aba86debe"
      },
      "execution_count": null,
      "outputs": [
        {
          "output_type": "stream",
          "name": "stdout",
          "text": [
            "{'uno': 1, 'tres': 3, 'kappa': 4}\n",
            "{'uno': 1, 'tres': 3}\n",
            "{}\n"
          ]
        }
      ]
    },
    {
      "cell_type": "code",
      "source": [],
      "metadata": {
        "id": "QScyDh3UzgQ_"
      },
      "execution_count": null,
      "outputs": []
    },
    {
      "cell_type": "code",
      "source": [
        "# dictionary copy\n",
        "dict_method={'first':10,\n",
        "             'second':20,\n",
        "             'third':30,\n",
        "             'fourth':40,\n",
        "             'fifth':50\n",
        "\n",
        "}\n",
        "another_dict=dict_method.copy()"
      ],
      "metadata": {
        "id": "pqDVBHCoYExg"
      },
      "execution_count": null,
      "outputs": []
    },
    {
      "cell_type": "code",
      "source": [
        "# from keys # didn't understand, watch video\n",
        "new_dict={}.fromkeys(['first','second','third'],0)\n",
        "new_dict1={}.fromkeys(['first','second','third'])\n",
        "print(new_dict)\n",
        "print(new_dict1)"
      ],
      "metadata": {
        "colab": {
          "base_uri": "https://localhost:8080/"
        },
        "id": "zZiN4UidZYvf",
        "outputId": "50580970-4682-49a1-829d-334cab9a396b"
      },
      "execution_count": null,
      "outputs": [
        {
          "output_type": "stream",
          "name": "stdout",
          "text": [
            "{'first': 0, 'second': 0, 'third': 0}\n",
            "{'first': None, 'second': None, 'third': None}\n"
          ]
        }
      ]
    },
    {
      "cell_type": "code",
      "source": [
        "print(another_dict)"
      ],
      "metadata": {
        "colab": {
          "base_uri": "https://localhost:8080/"
        },
        "id": "gmQxPVxuwIYO",
        "outputId": "6e21e48f-1041-4d2b-9ba8-ffc474644837"
      },
      "execution_count": null,
      "outputs": [
        {
          "output_type": "stream",
          "name": "stdout",
          "text": [
            "{'first': 10, 'second': 20, 'third': 30, 'fourth': 40, 'fifth': 50}\n"
          ]
        }
      ]
    },
    {
      "cell_type": "code",
      "source": [
        "print(another_dict.get('first')) # it returns the value of the key specified"
      ],
      "metadata": {
        "colab": {
          "base_uri": "https://localhost:8080/"
        },
        "id": "uWbuUTKpv-Fn",
        "outputId": "6be02f21-5c57-446e-c550-e6555a185f0c"
      },
      "execution_count": null,
      "outputs": [
        {
          "output_type": "stream",
          "name": "stdout",
          "text": [
            "10\n"
          ]
        }
      ]
    },
    {
      "cell_type": "code",
      "source": [
        "# get_method\n",
        "print(another_dict.items())\n",
        "print(another_dict.keys())\n",
        "print(another_dict.values())\n",
        "print(another_dict.popitem())\n"
      ],
      "metadata": {
        "colab": {
          "base_uri": "https://localhost:8080/",
          "height": 245
        },
        "id": "6n2qUIH7v2wx",
        "outputId": "ba247d92-86a5-4234-df19-745efdb127f4"
      },
      "execution_count": null,
      "outputs": [
        {
          "output_type": "error",
          "ename": "NameError",
          "evalue": "ignored",
          "traceback": [
            "\u001b[0;31m---------------------------------------------------------------------------\u001b[0m",
            "\u001b[0;31mNameError\u001b[0m                                 Traceback (most recent call last)",
            "\u001b[0;32m<ipython-input-85-9a69700e679c>\u001b[0m in \u001b[0;36m<cell line: 2>\u001b[0;34m()\u001b[0m\n\u001b[1;32m      1\u001b[0m \u001b[0;31m# get_method\u001b[0m\u001b[0;34m\u001b[0m\u001b[0;34m\u001b[0m\u001b[0m\n\u001b[0;32m----> 2\u001b[0;31m \u001b[0mprint\u001b[0m\u001b[0;34m(\u001b[0m\u001b[0manother_dict\u001b[0m\u001b[0;34m.\u001b[0m\u001b[0mitems\u001b[0m\u001b[0;34m(\u001b[0m\u001b[0;34m)\u001b[0m\u001b[0;34m)\u001b[0m\u001b[0;34m\u001b[0m\u001b[0;34m\u001b[0m\u001b[0m\n\u001b[0m\u001b[1;32m      3\u001b[0m \u001b[0mprint\u001b[0m\u001b[0;34m(\u001b[0m\u001b[0manother_dict\u001b[0m\u001b[0;34m.\u001b[0m\u001b[0mkeys\u001b[0m\u001b[0;34m(\u001b[0m\u001b[0;34m)\u001b[0m\u001b[0;34m)\u001b[0m\u001b[0;34m\u001b[0m\u001b[0;34m\u001b[0m\u001b[0m\n\u001b[1;32m      4\u001b[0m \u001b[0mprint\u001b[0m\u001b[0;34m(\u001b[0m\u001b[0manother_dict\u001b[0m\u001b[0;34m.\u001b[0m\u001b[0mvalues\u001b[0m\u001b[0;34m(\u001b[0m\u001b[0;34m)\u001b[0m\u001b[0;34m)\u001b[0m\u001b[0;34m\u001b[0m\u001b[0;34m\u001b[0m\u001b[0m\n\u001b[1;32m      5\u001b[0m \u001b[0mprint\u001b[0m\u001b[0;34m(\u001b[0m\u001b[0manother_dict\u001b[0m\u001b[0;34m.\u001b[0m\u001b[0mpopitem\u001b[0m\u001b[0;34m(\u001b[0m\u001b[0;34m)\u001b[0m\u001b[0;34m)\u001b[0m\u001b[0;34m\u001b[0m\u001b[0;34m\u001b[0m\u001b[0m\n",
            "\u001b[0;31mNameError\u001b[0m: name 'another_dict' is not defined"
          ]
        }
      ]
    },
    {
      "cell_type": "code",
      "source": [
        "print(another_dict.setdefault('first',100))\n",
        "print(another_dict.pop('first',10))\n",
        "print(another_dict.update(new_dict1)) # didn't understand"
      ],
      "metadata": {
        "colab": {
          "base_uri": "https://localhost:8080/",
          "height": 210
        },
        "id": "_sTQPYEMxTkF",
        "outputId": "7ea13356-b472-4caa-bdbe-5779f6e65539"
      },
      "execution_count": null,
      "outputs": [
        {
          "output_type": "error",
          "ename": "NameError",
          "evalue": "ignored",
          "traceback": [
            "\u001b[0;31m---------------------------------------------------------------------------\u001b[0m",
            "\u001b[0;31mNameError\u001b[0m                                 Traceback (most recent call last)",
            "\u001b[0;32m<ipython-input-86-3c7580086260>\u001b[0m in \u001b[0;36m<cell line: 1>\u001b[0;34m()\u001b[0m\n\u001b[0;32m----> 1\u001b[0;31m \u001b[0mprint\u001b[0m\u001b[0;34m(\u001b[0m\u001b[0manother_dict\u001b[0m\u001b[0;34m.\u001b[0m\u001b[0msetdefault\u001b[0m\u001b[0;34m(\u001b[0m\u001b[0;34m'first'\u001b[0m\u001b[0;34m,\u001b[0m\u001b[0;36m100\u001b[0m\u001b[0;34m)\u001b[0m\u001b[0;34m)\u001b[0m\u001b[0;34m\u001b[0m\u001b[0;34m\u001b[0m\u001b[0m\n\u001b[0m\u001b[1;32m      2\u001b[0m \u001b[0mprint\u001b[0m\u001b[0;34m(\u001b[0m\u001b[0manother_dict\u001b[0m\u001b[0;34m.\u001b[0m\u001b[0mpop\u001b[0m\u001b[0;34m(\u001b[0m\u001b[0;34m'first'\u001b[0m\u001b[0;34m,\u001b[0m\u001b[0;36m10\u001b[0m\u001b[0;34m)\u001b[0m\u001b[0;34m)\u001b[0m\u001b[0;34m\u001b[0m\u001b[0;34m\u001b[0m\u001b[0m\n\u001b[1;32m      3\u001b[0m \u001b[0mprint\u001b[0m\u001b[0;34m(\u001b[0m\u001b[0manother_dict\u001b[0m\u001b[0;34m.\u001b[0m\u001b[0mupdate\u001b[0m\u001b[0;34m(\u001b[0m\u001b[0mnew_dict1\u001b[0m\u001b[0;34m)\u001b[0m\u001b[0;34m)\u001b[0m \u001b[0;31m# didn't understand\u001b[0m\u001b[0;34m\u001b[0m\u001b[0;34m\u001b[0m\u001b[0m\n",
            "\u001b[0;31mNameError\u001b[0m: name 'another_dict' is not defined"
          ]
        }
      ]
    },
    {
      "cell_type": "code",
      "source": [
        "dictio"
      ],
      "metadata": {
        "colab": {
          "base_uri": "https://localhost:8080/"
        },
        "id": "w5gimVF_y8g_",
        "outputId": "8e782357-9375-45f3-be56-843fa3ba101b"
      },
      "execution_count": null,
      "outputs": [
        {
          "output_type": "execute_result",
          "data": {
            "text/plain": [
              "{}"
            ]
          },
          "metadata": {},
          "execution_count": 136
        }
      ]
    },
    {
      "cell_type": "code",
      "source": [
        "print(another_dict)"
      ],
      "metadata": {
        "colab": {
          "base_uri": "https://localhost:8080/"
        },
        "id": "EDVrJE2ydtxA",
        "outputId": "841e18db-70f3-4c8b-d8b8-39447ec6a451"
      },
      "execution_count": null,
      "outputs": [
        {
          "output_type": "stream",
          "name": "stdout",
          "text": [
            "{'second': 20, 'third': 30, 'fourth': 40, 'fifth': 50, 'key 3': 33, 'Key 4': 4400}\n"
          ]
        }
      ]
    },
    {
      "cell_type": "code",
      "source": [],
      "metadata": {
        "colab": {
          "base_uri": "https://localhost:8080/"
        },
        "id": "eWbdcMOUdgZk",
        "outputId": "8d40da2d-d5c3-47e4-eb07-63f4bf286248"
      },
      "execution_count": null,
      "outputs": [
        {
          "output_type": "stream",
          "name": "stdout",
          "text": [
            "100000\n",
            "{'first': 10, 'second': 20, 'third': 30, 'fourth': 40, 'fifth': 50}\n",
            "dict_keys(['first', 'second', 'third', 'fourth', 'fifth'])\n",
            "dict_values([10, 20, 30, 40, 50])\n"
          ]
        }
      ]
    },
    {
      "cell_type": "code",
      "source": [],
      "metadata": {
        "id": "8PaNzJ95diAn"
      },
      "execution_count": null,
      "outputs": []
    },
    {
      "cell_type": "code",
      "source": [],
      "metadata": {
        "id": "AWmWpzkpWHII"
      },
      "execution_count": null,
      "outputs": []
    },
    {
      "cell_type": "code",
      "source": [
        "# dictionary built in operations/functions watch video\n",
        "new_dict2={'a':1,'b':2,'c':3, 'd':4, 'e':5}\n",
        "print(new_dict2)\n",
        "print('a' in new_dict2)\n",
        "print('a' in new_dict2.keys())\n",
        "print(1 in new_dict2.values())\n",
        "# len function\n",
        "print(len(new_dict2))\n",
        "\n",
        "\n",
        "\n"
      ],
      "metadata": {
        "colab": {
          "base_uri": "https://localhost:8080/"
        },
        "outputId": "ff175d15-4b85-4df1-e33b-f3fed8bb9d0d",
        "id": "MNYoIf11gMp9"
      },
      "execution_count": null,
      "outputs": [
        {
          "output_type": "stream",
          "name": "stdout",
          "text": [
            "{'a': 1, 'b': 2, 'c': 3, 'd': 4, 'e': 5}\n",
            "True\n",
            "True\n",
            "True\n",
            "5\n"
          ]
        }
      ]
    },
    {
      "cell_type": "code",
      "source": [],
      "metadata": {
        "id": "jty2UlSvgREI"
      },
      "execution_count": null,
      "outputs": []
    },
    {
      "cell_type": "code",
      "source": [
        "# more on functions in dictionary # didn't understand watch video\n",
        "mydict = {\"Apple\" :0 , \"na\" : \"Orange\"}\n",
        "x = all(mydict)\n",
        "print(x)\n",
        "# any function\n",
        "# sorted function\n",
        "\n"
      ],
      "metadata": {
        "colab": {
          "base_uri": "https://localhost:8080/"
        },
        "id": "ERT1WMq6hXNa",
        "outputId": "a7fa33d8-af8a-4ea0-c482-2c0f1683fbee"
      },
      "execution_count": null,
      "outputs": [
        {
          "output_type": "stream",
          "name": "stdout",
          "text": [
            "True\n"
          ]
        }
      ]
    },
    {
      "cell_type": "code",
      "source": [
        "# dictionary comprehension\n",
        "# dictionary comprehension is the syntax to create a dictionary in short form\n",
        "#new_dict={new_key:new_value for items in list}\n",
        "# create a dictionary based on the values of from the existing dictionary\n",
        "#new_dict={new_key:new_value for (key, value) in dict.items()}\n",
        "# adding a condition\n",
        "# #new_dict={new_key:new_value for (key, value) in dict.items() if condition}"
      ],
      "metadata": {
        "id": "7-qCcsn1jjfe"
      },
      "execution_count": null,
      "outputs": []
    },
    {
      "cell_type": "code",
      "source": [
        "# practicing dictionary comprehention\n",
        "import random\n",
        "random.seed(10)\n",
        "city_names=['dhaka','NYC','Florida','New delhi']\n",
        "temp=[10,34,45,24]\n",
        "city_dict={city:random.randint(20,30) for city in city_names}\n",
        "print(city_dict)"
      ],
      "metadata": {
        "colab": {
          "base_uri": "https://localhost:8080/"
        },
        "id": "g1ZeOT-ejji1",
        "outputId": "8e96e853-8586-4d3b-cdee-b5be85315861"
      },
      "execution_count": null,
      "outputs": [
        {
          "output_type": "stream",
          "name": "stdout",
          "text": [
            "{'dhaka': 29, 'NYC': 20, 'Florida': 26, 'New delhi': 27}\n"
          ]
        }
      ]
    },
    {
      "cell_type": "code",
      "source": [
        "random.randint(20,30)"
      ],
      "metadata": {
        "id": "llQYcRw9lbKO"
      },
      "execution_count": null,
      "outputs": []
    },
    {
      "cell_type": "code",
      "source": [
        "# new_dict={new_key:new_value for (key, value) in dict.items() if condition}\n",
        "new_dict={city:temp for (city, temp) in city_dict.items() }\n",
        "print(new_dict)\n",
        "new_dict_if={city:temp for (city, temp) in city_dict.items() if temp>26 }\n",
        "print(new_dict_if)"
      ],
      "metadata": {
        "id": "WTEkDYf0jjnL",
        "colab": {
          "base_uri": "https://localhost:8080/"
        },
        "outputId": "2630065b-d9e7-4e98-8035-68acab67d387"
      },
      "execution_count": null,
      "outputs": [
        {
          "output_type": "stream",
          "name": "stdout",
          "text": [
            "{'dhaka': 29, 'NYC': 20, 'Florida': 26, 'New delhi': 27}\n",
            "{'dhaka': 29, 'New delhi': 27}\n"
          ]
        }
      ]
    },
    {
      "cell_type": "markdown",
      "source": [
        "**Section:10 Tuples**"
      ],
      "metadata": {
        "id": "DzyHMP71sXR6"
      }
    },
    {
      "cell_type": "code",
      "source": [
        "#create a tuple\n",
        "new_tuple=('a','b','c','d','e')\n",
        "new_tuple1=('a',)\n",
        "new_tuple2=tuple()\n",
        "print(new_tuple)\n",
        "print(new_tuple1)\n",
        "print(new_tuple2)"
      ],
      "metadata": {
        "id": "toZ3X8KIsbVW",
        "colab": {
          "base_uri": "https://localhost:8080/"
        },
        "outputId": "d0ccd80c-2509-4945-d000-57ed7f541491"
      },
      "execution_count": null,
      "outputs": [
        {
          "output_type": "stream",
          "name": "stdout",
          "text": [
            "('a', 'b', 'c', 'd', 'e')\n",
            "('a',)\n",
            "()\n"
          ]
        }
      ]
    },
    {
      "cell_type": "code",
      "source": [
        "# access elements in tuple and traverse\n",
        "new_tuple[0:3]\n",
        "for i in new_tuple:\n",
        "  print(i, end=\" \")\n",
        "for i in range(len(new_tuple)):\n",
        "  print(new_tuple[i])"
      ],
      "metadata": {
        "id": "USDxasCrsbYC",
        "colab": {
          "base_uri": "https://localhost:8080/"
        },
        "outputId": "87e0ac73-5525-4f98-ff77-8e16f4426bd4"
      },
      "execution_count": null,
      "outputs": [
        {
          "output_type": "stream",
          "name": "stdout",
          "text": [
            "a b c d e a\n",
            "b\n",
            "c\n",
            "d\n",
            "e\n"
          ]
        }
      ]
    },
    {
      "cell_type": "code",
      "source": [
        "# searching for an element in tuple\n",
        "new_tuple3=(1,7,8,9,77,88,99)\n",
        "print(new_tuple3[3])\n",
        "print(new_tuple3.index(77))\n",
        "# searching using function\n",
        "def search_tuple(ttuple,value):\n",
        "  for i in range(len(ttuple)):\n",
        "    if ttuple[i]==value:\n",
        "      return i,value\n",
        "  return \"Can't do\"\n",
        "search_tuple(new_tuple3,88)\n"
      ],
      "metadata": {
        "id": "jrNaB1Frsbav",
        "colab": {
          "base_uri": "https://localhost:8080/"
        },
        "outputId": "c4dd07bd-fe93-435d-a237-a9ccc059f7e8"
      },
      "execution_count": null,
      "outputs": [
        {
          "output_type": "stream",
          "name": "stdout",
          "text": [
            "9\n",
            "4\n"
          ]
        },
        {
          "output_type": "execute_result",
          "data": {
            "text/plain": [
              "(5, 88)"
            ]
          },
          "metadata": {},
          "execution_count": 171
        }
      ]
    },
    {
      "cell_type": "code",
      "source": [],
      "metadata": {
        "id": "g5x_s13Bsbdr"
      },
      "execution_count": null,
      "outputs": []
    },
    {
      "cell_type": "code",
      "source": [
        "# Tuple operations/functions\n",
        "# concetanate tuple\n",
        "tuple1=(1,2,3,4,5)\n",
        "tuple2=(6,7)\n",
        "tuple1+tuple2\n",
        "tuple1*2\n",
        "# in operator\n",
        "1 in tuple1\n",
        "print(tuple1.count(2))\n",
        "print(tuple1.index(3))\n",
        "# len, min, max,\n",
        "# converting tuple to list\n",
        "print(tuple([1,2,3,4,5]))\n"
      ],
      "metadata": {
        "id": "_F-WMkeaxhHM"
      },
      "execution_count": null,
      "outputs": []
    },
    {
      "cell_type": "code",
      "source": [
        "# we can't change a single element in tuple but we can reassign the whole tuple\n",
        "t1=(1,2,3)\n",
        "t1=(5,6,7)\n",
        "print(t1)# we can't delete elements but full tuple"
      ],
      "metadata": {
        "id": "cj9O0alQxhJ-"
      },
      "execution_count": null,
      "outputs": []
    },
    {
      "cell_type": "code",
      "source": [
        "# Define a function to count the frequency of words in a given list of words.\n",
        "# Example:\n",
        "#words = ['apple', 'orange', 'banana', 'apple', 'orange', 'apple']\n",
        "#count_word_frequency(words)\n",
        "#Output: {'apple': 3, 'orange': 2, 'banana': 1}\n",
        "words = ['apple', 'orange', 'banana', 'apple', 'orange', 'apple','apple']\n",
        "apple_count=0\n",
        "orange_count=0\n",
        "banana_count=0\n",
        "for i in words:\n",
        "  if i=='apple':\n",
        "    apple_count+=1\n",
        "  if i=='banana':\n",
        "    banana_count+=1\n",
        "  if i=='orange':\n",
        "    orange_count+=1\n",
        "print(apple_count, banana_count,orange_count)"
      ],
      "metadata": {
        "id": "ZPJyf_yRxhMq",
        "colab": {
          "base_uri": "https://localhost:8080/"
        },
        "outputId": "3973edd4-07d2-4ab2-8511-09eaf2685965"
      },
      "execution_count": null,
      "outputs": [
        {
          "output_type": "stream",
          "name": "stdout",
          "text": [
            "4 1 2\n"
          ]
        }
      ]
    },
    {
      "cell_type": "code",
      "source": [
        "# Define a function with takes two dictionaries as parameters and merge them and sum the values of common keys.\n",
        "dict1 = {'a': 1, 'b': 2, 'c': 3}\n",
        "dict2 = {'b': 3, 'c': 4, 'd': 5}\n",
        "dict3=dict2.update(dict1)\n",
        "\n",
        "\n",
        "\n",
        "{'a': 1, 'b': 5, 'c': 7, 'd': 5}"
      ],
      "metadata": {
        "colab": {
          "base_uri": "https://localhost:8080/"
        },
        "id": "-coEo5h-4F5L",
        "outputId": "feb8f3d8-fe29-4211-ac7b-604374e60826"
      },
      "execution_count": null,
      "outputs": [
        {
          "output_type": "execute_result",
          "data": {
            "text/plain": [
              "{'a': 1, 'b': 5, 'c': 7, 'd': 5}"
            ]
          },
          "metadata": {},
          "execution_count": 161
        }
      ]
    }
  ]
}